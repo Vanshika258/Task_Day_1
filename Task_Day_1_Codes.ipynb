{
  "nbformat": 4,
  "nbformat_minor": 0,
  "metadata": {
    "colab": {
      "provenance": []
    },
    "kernelspec": {
      "name": "python3",
      "display_name": "Python 3"
    },
    "language_info": {
      "name": "python"
    }
  },
  "cells": [
    {
      "cell_type": "markdown",
      "source": [
        "#Task Day 1\n",
        "#Data Cleaning and Preprocessing"
      ],
      "metadata": {
        "id": "5fGZAtHAjAmu"
      }
    },
    {
      "cell_type": "markdown",
      "source": [
        "Dataset used: Sales Data from Kaggle"
      ],
      "metadata": {
        "id": "xi9f3ctVjcn9"
      }
    },
    {
      "cell_type": "code",
      "source": [
        "#Import files\n",
        "import pandas as pd\n",
        "import numpy as np"
      ],
      "metadata": {
        "id": "STY9qnI0jaPi"
      },
      "execution_count": 37,
      "outputs": []
    },
    {
      "cell_type": "code",
      "source": [
        "#Load csv file\n",
        "df = pd.read_csv('/content/car_prices.csv')"
      ],
      "metadata": {
        "id": "qNNTT-6hk8PG"
      },
      "execution_count": 38,
      "outputs": []
    },
    {
      "cell_type": "code",
      "source": [
        "#Info\n",
        "print(df.head())"
      ],
      "metadata": {
        "colab": {
          "base_uri": "https://localhost:8080/"
        },
        "id": "Ty7ByHRVlcwK",
        "outputId": "0ce1c925-5f14-4a42-eeed-92108fbe6fc5"
      },
      "execution_count": 39,
      "outputs": [
        {
          "output_type": "stream",
          "name": "stdout",
          "text": [
            "   year   make                model        trim   body transmission  \\\n",
            "0  2015    Kia              Sorento          LX    SUV    automatic   \n",
            "1  2015    Kia              Sorento          LX    SUV    automatic   \n",
            "2  2014    BMW             3 Series  328i SULEV  Sedan    automatic   \n",
            "3  2015  Volvo                  S60          T5  Sedan    automatic   \n",
            "4  2014    BMW  6 Series Gran Coupe        650i  Sedan    automatic   \n",
            "\n",
            "                 vin state  condition  odometer  color interior  \\\n",
            "0  5xyktca69fg566472    ca        5.0   16639.0  white    black   \n",
            "1  5xyktca69fg561319    ca        5.0    9393.0  white    beige   \n",
            "2  wba3c1c51ek116351    ca       45.0    1331.0   gray    black   \n",
            "3  yv1612tb4f1310987    ca       41.0   14282.0  white    black   \n",
            "4  wba6b2c57ed129731    ca       43.0    2641.0   gray    black   \n",
            "\n",
            "                                   seller      mmr  sellingprice  \\\n",
            "0                 kia motors america  inc  20500.0       21500.0   \n",
            "1                 kia motors america  inc  20800.0       21500.0   \n",
            "2  financial services remarketing (lease)  31900.0       30000.0   \n",
            "3                 volvo na rep/world omni  27500.0       27750.0   \n",
            "4  financial services remarketing (lease)  66000.0       67000.0   \n",
            "\n",
            "                                  saledate  \n",
            "0  Tue Dec 16 2014 12:30:00 GMT-0800 (PST)  \n",
            "1  Tue Dec 16 2014 12:30:00 GMT-0800 (PST)  \n",
            "2  Thu Jan 15 2015 04:30:00 GMT-0800 (PST)  \n",
            "3  Thu Jan 29 2015 04:30:00 GMT-0800 (PST)  \n",
            "4  Thu Dec 18 2014 12:30:00 GMT-0800 (PST)  \n"
          ]
        }
      ]
    },
    {
      "cell_type": "code",
      "source": [
        "#Check missing values\n",
        "print(df.isnull().sum())"
      ],
      "metadata": {
        "colab": {
          "base_uri": "https://localhost:8080/"
        },
        "id": "vGiFp1a0mHj6",
        "outputId": "c653911a-d4eb-459c-b307-bdfc27832ac9"
      },
      "execution_count": 40,
      "outputs": [
        {
          "output_type": "stream",
          "name": "stdout",
          "text": [
            "year                0\n",
            "make            10301\n",
            "model           10399\n",
            "trim            10651\n",
            "body            13195\n",
            "transmission    65352\n",
            "vin                 4\n",
            "state               0\n",
            "condition       11820\n",
            "odometer           94\n",
            "color             749\n",
            "interior          749\n",
            "seller              0\n",
            "mmr                38\n",
            "sellingprice       12\n",
            "saledate           12\n",
            "dtype: int64\n"
          ]
        }
      ]
    },
    {
      "cell_type": "code",
      "source": [
        "#Drop missing values\n",
        "df = df.dropna()\n",
        "print(df.isnull().sum())"
      ],
      "metadata": {
        "colab": {
          "base_uri": "https://localhost:8080/"
        },
        "id": "zaA0LTaeo5W9",
        "outputId": "748a4f87-2166-4582-d01e-808e662d5cb0"
      },
      "execution_count": 41,
      "outputs": [
        {
          "output_type": "stream",
          "name": "stdout",
          "text": [
            "year            0\n",
            "make            0\n",
            "model           0\n",
            "trim            0\n",
            "body            0\n",
            "transmission    0\n",
            "vin             0\n",
            "state           0\n",
            "condition       0\n",
            "odometer        0\n",
            "color           0\n",
            "interior        0\n",
            "seller          0\n",
            "mmr             0\n",
            "sellingprice    0\n",
            "saledate        0\n",
            "dtype: int64\n"
          ]
        }
      ]
    },
    {
      "cell_type": "code",
      "source": [
        "print(df.info())"
      ],
      "metadata": {
        "colab": {
          "base_uri": "https://localhost:8080/"
        },
        "id": "SPvwACoWd0ni",
        "outputId": "c89246d6-d017-4b89-edbc-807f50a28cbc"
      },
      "execution_count": 42,
      "outputs": [
        {
          "output_type": "stream",
          "name": "stdout",
          "text": [
            "<class 'pandas.core.frame.DataFrame'>\n",
            "Index: 472325 entries, 0 to 558836\n",
            "Data columns (total 16 columns):\n",
            " #   Column        Non-Null Count   Dtype  \n",
            "---  ------        --------------   -----  \n",
            " 0   year          472325 non-null  int64  \n",
            " 1   make          472325 non-null  object \n",
            " 2   model         472325 non-null  object \n",
            " 3   trim          472325 non-null  object \n",
            " 4   body          472325 non-null  object \n",
            " 5   transmission  472325 non-null  object \n",
            " 6   vin           472325 non-null  object \n",
            " 7   state         472325 non-null  object \n",
            " 8   condition     472325 non-null  float64\n",
            " 9   odometer      472325 non-null  float64\n",
            " 10  color         472325 non-null  object \n",
            " 11  interior      472325 non-null  object \n",
            " 12  seller        472325 non-null  object \n",
            " 13  mmr           472325 non-null  float64\n",
            " 14  sellingprice  472325 non-null  float64\n",
            " 15  saledate      472325 non-null  object \n",
            "dtypes: float64(4), int64(1), object(11)\n",
            "memory usage: 61.3+ MB\n",
            "None\n"
          ]
        }
      ]
    },
    {
      "cell_type": "code",
      "source": [
        "#Change column name\n",
        "df.rename(columns={'make':'maker'}, inplace=True)\n",
        "print(df.columns)"
      ],
      "metadata": {
        "colab": {
          "base_uri": "https://localhost:8080/"
        },
        "id": "hf4ri8NheEPz",
        "outputId": "734950ab-3da1-4329-9364-7ac579a4d170"
      },
      "execution_count": 43,
      "outputs": [
        {
          "output_type": "stream",
          "name": "stdout",
          "text": [
            "Index(['year', 'maker', 'model', 'trim', 'body', 'transmission', 'vin',\n",
            "       'state', 'condition', 'odometer', 'color', 'interior', 'seller', 'mmr',\n",
            "       'sellingprice', 'saledate'],\n",
            "      dtype='object')\n"
          ]
        }
      ]
    },
    {
      "cell_type": "code",
      "source": [
        "#Remove GNT from saledate\n",
        "df['saledate_clean'] = df['saledate'].astype(str).str.replace(r'GMT.*', '', regex=True).str.strip()"
      ],
      "metadata": {
        "id": "sAlisXeXipi0"
      },
      "execution_count": 44,
      "outputs": []
    },
    {
      "cell_type": "code",
      "source": [
        "print(df.columns)"
      ],
      "metadata": {
        "colab": {
          "base_uri": "https://localhost:8080/"
        },
        "id": "KAXnEs6ljY8t",
        "outputId": "07202c18-1e73-4432-a35a-3658bae86c3c"
      },
      "execution_count": 45,
      "outputs": [
        {
          "output_type": "stream",
          "name": "stdout",
          "text": [
            "Index(['year', 'maker', 'model', 'trim', 'body', 'transmission', 'vin',\n",
            "       'state', 'condition', 'odometer', 'color', 'interior', 'seller', 'mmr',\n",
            "       'sellingprice', 'saledate', 'saledate_clean'],\n",
            "      dtype='object')\n"
          ]
        }
      ]
    },
    {
      "cell_type": "code",
      "source": [
        "#Convert to datetime\n",
        "df['saledate_clean'] = pd.to_datetime(df['saledate_clean'], errors='coerce')"
      ],
      "metadata": {
        "id": "XikIeJeWglme"
      },
      "execution_count": 46,
      "outputs": []
    },
    {
      "cell_type": "code",
      "source": [
        "#Extract date\n",
        "df['date'] = df['saledate_clean'].dt.date"
      ],
      "metadata": {
        "id": "BkzDr_jEg2Eh"
      },
      "execution_count": 47,
      "outputs": []
    },
    {
      "cell_type": "code",
      "source": [
        "#Extract time\n",
        "df['time'] = df['saledate_clean'].dt.time"
      ],
      "metadata": {
        "id": "ZevInf8ThkHD"
      },
      "execution_count": 48,
      "outputs": []
    },
    {
      "cell_type": "code",
      "source": [
        "#Extract day of week\n",
        "df['day'] = df['saledate_clean'].dt.day_name()"
      ],
      "metadata": {
        "id": "kKOQXpRAhpsU"
      },
      "execution_count": 49,
      "outputs": []
    },
    {
      "cell_type": "code",
      "source": [
        "# Display new data frame\n",
        "print(df.head)"
      ],
      "metadata": {
        "colab": {
          "base_uri": "https://localhost:8080/"
        },
        "id": "JCWdEgD_h0Pi",
        "outputId": "15b5c850-9dff-40a2-c72a-00b0ca382033"
      },
      "execution_count": 51,
      "outputs": [
        {
          "output_type": "stream",
          "name": "stdout",
          "text": [
            "<bound method NDFrame.head of         year   maker                model         trim       body  \\\n",
            "0       2015     Kia              Sorento           LX        SUV   \n",
            "1       2015     Kia              Sorento           LX        SUV   \n",
            "2       2014     BMW             3 Series   328i SULEV      Sedan   \n",
            "3       2015   Volvo                  S60           T5      Sedan   \n",
            "4       2014     BMW  6 Series Gran Coupe         650i      Sedan   \n",
            "...      ...     ...                  ...          ...        ...   \n",
            "558831  2011     BMW             5 Series         528i      Sedan   \n",
            "558833  2012     Ram                 2500  Power Wagon   Crew Cab   \n",
            "558834  2012     BMW                   X5    xDrive35d        SUV   \n",
            "558835  2015  Nissan               Altima        2.5 S      sedan   \n",
            "558836  2014    Ford                F-150          XLT  SuperCrew   \n",
            "\n",
            "       transmission                vin state  condition  odometer  color  \\\n",
            "0         automatic  5xyktca69fg566472    ca        5.0   16639.0  white   \n",
            "1         automatic  5xyktca69fg561319    ca        5.0    9393.0  white   \n",
            "2         automatic  wba3c1c51ek116351    ca       45.0    1331.0   gray   \n",
            "3         automatic  yv1612tb4f1310987    ca       41.0   14282.0  white   \n",
            "4         automatic  wba6b2c57ed129731    ca       43.0    2641.0   gray   \n",
            "...             ...                ...   ...        ...       ...    ...   \n",
            "558831    automatic  wbafr1c53bc744672    fl       39.0   66403.0  white   \n",
            "558833    automatic  3c6td5et6cg112407    wa        5.0   54393.0  white   \n",
            "558834    automatic  5uxzw0c58cl668465    ca       48.0   50561.0  black   \n",
            "558835    automatic  1n4al3ap0fc216050    ga       38.0   16658.0  white   \n",
            "558836    automatic  1ftfw1et2eke87277    ca       34.0   15008.0   gray   \n",
            "\n",
            "       interior                                             seller      mmr  \\\n",
            "0         black                            kia motors america  inc  20500.0   \n",
            "1         beige                            kia motors america  inc  20800.0   \n",
            "2         black             financial services remarketing (lease)  31900.0   \n",
            "3         black                            volvo na rep/world omni  27500.0   \n",
            "4         black             financial services remarketing (lease)  66000.0   \n",
            "...         ...                                                ...      ...   \n",
            "558831    brown           lauderdale imports ltd bmw pembrok pines  20300.0   \n",
            "558833    black                                    i -5 uhlmann rv  30200.0   \n",
            "558834    black             financial services remarketing (lease)  29800.0   \n",
            "558835    black  enterprise vehicle exchange / tra / rental / t...  15100.0   \n",
            "558836     gray                   ford motor credit company llc pd  29600.0   \n",
            "\n",
            "        sellingprice                                 saledate  \\\n",
            "0            21500.0  Tue Dec 16 2014 12:30:00 GMT-0800 (PST)   \n",
            "1            21500.0  Tue Dec 16 2014 12:30:00 GMT-0800 (PST)   \n",
            "2            30000.0  Thu Jan 15 2015 04:30:00 GMT-0800 (PST)   \n",
            "3            27750.0  Thu Jan 29 2015 04:30:00 GMT-0800 (PST)   \n",
            "4            67000.0  Thu Dec 18 2014 12:30:00 GMT-0800 (PST)   \n",
            "...              ...                                      ...   \n",
            "558831       22800.0  Tue Jul 07 2015 06:15:00 GMT-0700 (PDT)   \n",
            "558833       30800.0  Wed Jul 08 2015 09:30:00 GMT-0700 (PDT)   \n",
            "558834       34000.0  Wed Jul 08 2015 09:30:00 GMT-0700 (PDT)   \n",
            "558835       11100.0  Thu Jul 09 2015 06:45:00 GMT-0700 (PDT)   \n",
            "558836       26700.0  Thu May 28 2015 05:30:00 GMT-0700 (PDT)   \n",
            "\n",
            "            saledate_clean        date      time        day  \n",
            "0      2014-12-16 12:30:00  2014-12-16  12:30:00    Tuesday  \n",
            "1      2014-12-16 12:30:00  2014-12-16  12:30:00    Tuesday  \n",
            "2      2015-01-15 04:30:00  2015-01-15  04:30:00   Thursday  \n",
            "3      2015-01-29 04:30:00  2015-01-29  04:30:00   Thursday  \n",
            "4      2014-12-18 12:30:00  2014-12-18  12:30:00   Thursday  \n",
            "...                    ...         ...       ...        ...  \n",
            "558831 2015-07-07 06:15:00  2015-07-07  06:15:00    Tuesday  \n",
            "558833 2015-07-08 09:30:00  2015-07-08  09:30:00  Wednesday  \n",
            "558834 2015-07-08 09:30:00  2015-07-08  09:30:00  Wednesday  \n",
            "558835 2015-07-09 06:45:00  2015-07-09  06:45:00   Thursday  \n",
            "558836 2015-05-28 05:30:00  2015-05-28  05:30:00   Thursday  \n",
            "\n",
            "[472325 rows x 20 columns]>\n"
          ]
        }
      ]
    },
    {
      "cell_type": "code",
      "source": [
        "#Remove duplicates\n",
        "df = df.drop_duplicates()"
      ],
      "metadata": {
        "id": "Ro0zkwYIkzLH"
      },
      "execution_count": 55,
      "outputs": []
    },
    {
      "cell_type": "code",
      "source": [
        "#Check state name\n",
        "df['state'].value_counts()"
      ],
      "metadata": {
        "colab": {
          "base_uri": "https://localhost:8080/",
          "height": 1000
        },
        "id": "YYpTV03dlUf1",
        "outputId": "9d192c7a-c0b4-41c5-eb21-89418b6dcce7"
      },
      "execution_count": 58,
      "outputs": [
        {
          "output_type": "execute_result",
          "data": {
            "text/plain": [
              "state\n",
              "fl    75243\n",
              "ca    66213\n",
              "tx    41657\n",
              "ga    30939\n",
              "pa    24117\n",
              "nj    23003\n",
              "il    21494\n",
              "oh    20294\n",
              "tn    19183\n",
              "nc    18731\n",
              "mo    15286\n",
              "mi    14185\n",
              "nv    11682\n",
              "md     9788\n",
              "va     9448\n",
              "wi     9196\n",
              "mn     8627\n",
              "az     7612\n",
              "wa     7012\n",
              "co     6270\n",
              "ma     6167\n",
              "ny     4749\n",
              "in     3879\n",
              "sc     3754\n",
              "ne     3685\n",
              "pr     2427\n",
              "la     1744\n",
              "ms     1730\n",
              "ut     1716\n",
              "hi     1205\n",
              "or     1047\n",
              "nm      163\n",
              "ok       54\n",
              "al       25\n",
              "Name: count, dtype: int64"
            ],
            "text/html": [
              "<div>\n",
              "<style scoped>\n",
              "    .dataframe tbody tr th:only-of-type {\n",
              "        vertical-align: middle;\n",
              "    }\n",
              "\n",
              "    .dataframe tbody tr th {\n",
              "        vertical-align: top;\n",
              "    }\n",
              "\n",
              "    .dataframe thead th {\n",
              "        text-align: right;\n",
              "    }\n",
              "</style>\n",
              "<table border=\"1\" class=\"dataframe\">\n",
              "  <thead>\n",
              "    <tr style=\"text-align: right;\">\n",
              "      <th></th>\n",
              "      <th>count</th>\n",
              "    </tr>\n",
              "    <tr>\n",
              "      <th>state</th>\n",
              "      <th></th>\n",
              "    </tr>\n",
              "  </thead>\n",
              "  <tbody>\n",
              "    <tr>\n",
              "      <th>fl</th>\n",
              "      <td>75243</td>\n",
              "    </tr>\n",
              "    <tr>\n",
              "      <th>ca</th>\n",
              "      <td>66213</td>\n",
              "    </tr>\n",
              "    <tr>\n",
              "      <th>tx</th>\n",
              "      <td>41657</td>\n",
              "    </tr>\n",
              "    <tr>\n",
              "      <th>ga</th>\n",
              "      <td>30939</td>\n",
              "    </tr>\n",
              "    <tr>\n",
              "      <th>pa</th>\n",
              "      <td>24117</td>\n",
              "    </tr>\n",
              "    <tr>\n",
              "      <th>nj</th>\n",
              "      <td>23003</td>\n",
              "    </tr>\n",
              "    <tr>\n",
              "      <th>il</th>\n",
              "      <td>21494</td>\n",
              "    </tr>\n",
              "    <tr>\n",
              "      <th>oh</th>\n",
              "      <td>20294</td>\n",
              "    </tr>\n",
              "    <tr>\n",
              "      <th>tn</th>\n",
              "      <td>19183</td>\n",
              "    </tr>\n",
              "    <tr>\n",
              "      <th>nc</th>\n",
              "      <td>18731</td>\n",
              "    </tr>\n",
              "    <tr>\n",
              "      <th>mo</th>\n",
              "      <td>15286</td>\n",
              "    </tr>\n",
              "    <tr>\n",
              "      <th>mi</th>\n",
              "      <td>14185</td>\n",
              "    </tr>\n",
              "    <tr>\n",
              "      <th>nv</th>\n",
              "      <td>11682</td>\n",
              "    </tr>\n",
              "    <tr>\n",
              "      <th>md</th>\n",
              "      <td>9788</td>\n",
              "    </tr>\n",
              "    <tr>\n",
              "      <th>va</th>\n",
              "      <td>9448</td>\n",
              "    </tr>\n",
              "    <tr>\n",
              "      <th>wi</th>\n",
              "      <td>9196</td>\n",
              "    </tr>\n",
              "    <tr>\n",
              "      <th>mn</th>\n",
              "      <td>8627</td>\n",
              "    </tr>\n",
              "    <tr>\n",
              "      <th>az</th>\n",
              "      <td>7612</td>\n",
              "    </tr>\n",
              "    <tr>\n",
              "      <th>wa</th>\n",
              "      <td>7012</td>\n",
              "    </tr>\n",
              "    <tr>\n",
              "      <th>co</th>\n",
              "      <td>6270</td>\n",
              "    </tr>\n",
              "    <tr>\n",
              "      <th>ma</th>\n",
              "      <td>6167</td>\n",
              "    </tr>\n",
              "    <tr>\n",
              "      <th>ny</th>\n",
              "      <td>4749</td>\n",
              "    </tr>\n",
              "    <tr>\n",
              "      <th>in</th>\n",
              "      <td>3879</td>\n",
              "    </tr>\n",
              "    <tr>\n",
              "      <th>sc</th>\n",
              "      <td>3754</td>\n",
              "    </tr>\n",
              "    <tr>\n",
              "      <th>ne</th>\n",
              "      <td>3685</td>\n",
              "    </tr>\n",
              "    <tr>\n",
              "      <th>pr</th>\n",
              "      <td>2427</td>\n",
              "    </tr>\n",
              "    <tr>\n",
              "      <th>la</th>\n",
              "      <td>1744</td>\n",
              "    </tr>\n",
              "    <tr>\n",
              "      <th>ms</th>\n",
              "      <td>1730</td>\n",
              "    </tr>\n",
              "    <tr>\n",
              "      <th>ut</th>\n",
              "      <td>1716</td>\n",
              "    </tr>\n",
              "    <tr>\n",
              "      <th>hi</th>\n",
              "      <td>1205</td>\n",
              "    </tr>\n",
              "    <tr>\n",
              "      <th>or</th>\n",
              "      <td>1047</td>\n",
              "    </tr>\n",
              "    <tr>\n",
              "      <th>nm</th>\n",
              "      <td>163</td>\n",
              "    </tr>\n",
              "    <tr>\n",
              "      <th>ok</th>\n",
              "      <td>54</td>\n",
              "    </tr>\n",
              "    <tr>\n",
              "      <th>al</th>\n",
              "      <td>25</td>\n",
              "    </tr>\n",
              "  </tbody>\n",
              "</table>\n",
              "</div><br><label><b>dtype:</b> int64</label>"
            ]
          },
          "metadata": {},
          "execution_count": 58
        }
      ]
    },
    {
      "cell_type": "code",
      "source": [
        "#Save clean data\n",
        "df.to_csv(\"cleaned_data_task_1a.csv\", index=False)"
      ],
      "metadata": {
        "id": "GbJHcQI7maTE"
      },
      "execution_count": 59,
      "outputs": []
    },
    {
      "cell_type": "code",
      "source": [
        "#Download cleaned csv file\n",
        "from google.colab import files\n",
        "files.download('cleaned_data_task_1a.csv')"
      ],
      "metadata": {
        "colab": {
          "base_uri": "https://localhost:8080/",
          "height": 17
        },
        "id": "qaxY93wKm5M_",
        "outputId": "f6db5643-ed81-4ec9-c0b5-a3935995b74a"
      },
      "execution_count": 60,
      "outputs": [
        {
          "output_type": "display_data",
          "data": {
            "text/plain": [
              "<IPython.core.display.Javascript object>"
            ],
            "application/javascript": [
              "\n",
              "    async function download(id, filename, size) {\n",
              "      if (!google.colab.kernel.accessAllowed) {\n",
              "        return;\n",
              "      }\n",
              "      const div = document.createElement('div');\n",
              "      const label = document.createElement('label');\n",
              "      label.textContent = `Downloading \"${filename}\": `;\n",
              "      div.appendChild(label);\n",
              "      const progress = document.createElement('progress');\n",
              "      progress.max = size;\n",
              "      div.appendChild(progress);\n",
              "      document.body.appendChild(div);\n",
              "\n",
              "      const buffers = [];\n",
              "      let downloaded = 0;\n",
              "\n",
              "      const channel = await google.colab.kernel.comms.open(id);\n",
              "      // Send a message to notify the kernel that we're ready.\n",
              "      channel.send({})\n",
              "\n",
              "      for await (const message of channel.messages) {\n",
              "        // Send a message to notify the kernel that we're ready.\n",
              "        channel.send({})\n",
              "        if (message.buffers) {\n",
              "          for (const buffer of message.buffers) {\n",
              "            buffers.push(buffer);\n",
              "            downloaded += buffer.byteLength;\n",
              "            progress.value = downloaded;\n",
              "          }\n",
              "        }\n",
              "      }\n",
              "      const blob = new Blob(buffers, {type: 'application/binary'});\n",
              "      const a = document.createElement('a');\n",
              "      a.href = window.URL.createObjectURL(blob);\n",
              "      a.download = filename;\n",
              "      div.appendChild(a);\n",
              "      a.click();\n",
              "      div.remove();\n",
              "    }\n",
              "  "
            ]
          },
          "metadata": {}
        },
        {
          "output_type": "display_data",
          "data": {
            "text/plain": [
              "<IPython.core.display.Javascript object>"
            ],
            "application/javascript": [
              "download(\"download_3593b36d-d865-4ebc-8f1c-db53cfa55b68\", \"cleaned_data_task_1a.csv\", 101509755)"
            ]
          },
          "metadata": {}
        }
      ]
    }
  ]
}